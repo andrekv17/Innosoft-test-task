{
  "nbformat": 4,
  "nbformat_minor": 0,
  "metadata": {
    "colab": {
      "name": "Innosoft test task.ipynb",
      "provenance": [],
      "collapsed_sections": []
    },
    "kernelspec": {
      "name": "python3",
      "display_name": "Python 3"
    },
    "accelerator": "GPU"
  },
  "cells": [
    {
      "cell_type": "code",
      "metadata": {
        "id": "NNvxfaTaRNd0",
        "colab_type": "code",
        "colab": {}
      },
      "source": [
        "import urllib.request\n",
        "import matplotlib.pyplot as plt\n",
        "from PIL import Image\n",
        "import cv2\n",
        "import torch\n",
        "import pandas\n",
        "import numpy as np\n",
        "import json\n",
        "import torch.nn as nn\n",
        "from typing import Tuple\n",
        "from torch.nn import Conv2d, Sequential, ModuleList, BatchNorm2d\n",
        "import math\n",
        "from torchvision import transforms\n",
        "from torch.utils.data import Dataset, DataLoader\n",
        "import torch.optim as optim\n"
      ],
      "execution_count": 0,
      "outputs": []
    },
    {
      "cell_type": "code",
      "metadata": {
        "id": "w2UIse3QU95w",
        "colab_type": "code",
        "colab": {}
      },
      "source": [
        "class TrainDataset(Dataset):\n",
        "    def __init__(self, json_file):\n",
        "        train = json.load(open(json_file))\n",
        "        self.links = []\n",
        "        self.label = []\n",
        "        for item in train:\n",
        "            self.links.append(item['image'])\n",
        "            self.label.append(item['class'])\n",
        "        \n",
        "    def __len__(self):\n",
        "        return len(self.links)\n",
        "\n",
        "    \n",
        "    def __getitem__(self, idx):\n",
        "        img = Image.open(urllib.request.urlopen(self.links[idx]))\n",
        "        img = img.resize((128,128))\n",
        "        transform = transforms.Compose([\n",
        "            transforms.Resize(128),\n",
        "            transforms.ToTensor(),\n",
        "            transforms.Normalize(mean=(0.5,), std=(0.5,))\n",
        "        ])\n",
        "        img_t = transform(img)\n",
        "        return {'image': img_t, \n",
        "                'label': torch.tensor(self.label[idx]).float()}\n",
        "\n",
        "class TestDataset(Dataset):\n",
        "    def __init__(self, csv_file):\n",
        "        test = pandas.read_csv('dataset_test_ids.csv')\n",
        "        self.links = []\n",
        "        self.label = []\n",
        "        for i in range(len(test)):\n",
        "            self.links.append(test.iloc[i, 0])\n",
        "            self.label.append(test.iloc[i, 1])\n",
        "        \n",
        "    def __len__(self):\n",
        "        return len(self.links)\n",
        "\n",
        "    \n",
        "    def __getitem__(self, idx):\n",
        "        img = Image.open(urllib.request.urlopen(self.links[idx]))\n",
        "        img = img.resize((128,128))\n",
        "        transform = transforms.Compose([\n",
        "            transforms.Resize(128),\n",
        "            transforms.ToTensor(),\n",
        "            transforms.Normalize(mean=(0.5,), std=(0.5,))\n",
        "        ])\n",
        "        img_t = transform(img)\n",
        "        return {'image': img_t, \n",
        "                'label': torch.tensor(self.label[idx]).float(),\n",
        "                'url': self.links[idx]}\n",
        "\n"
      ],
      "execution_count": 0,
      "outputs": []
    },
    {
      "cell_type": "code",
      "metadata": {
        "id": "AFKW-VxALVFP",
        "colab_type": "code",
        "colab": {}
      },
      "source": [
        "train_loader = DataLoader(TrainDataset('dataset_train.json'), num_workers=2, batch_size=20, shuffle=True)\n",
        "test_loader = DataLoader(TestDataset('dataset_test_ids.csv'), num_workers=2, batch_size=1, shuffle=False)"
      ],
      "execution_count": 0,
      "outputs": []
    },
    {
      "cell_type": "code",
      "metadata": {
        "id": "Y1IxohPuVFbc",
        "colab_type": "code",
        "colab": {}
      },
      "source": [
        "def SeperableConv2d(in_channels, out_channels, kernel_size=1, stride=1, padding=0):\n",
        "    return Sequential(\n",
        "        Conv2d(in_channels=in_channels, out_channels=in_channels, kernel_size=kernel_size,\n",
        "               groups=in_channels, stride=stride, padding=padding),\n",
        "        BatchNorm2d(in_channels),\n",
        "        nn.ReLU6(),\n",
        "        Conv2d(in_channels=in_channels, out_channels=out_channels, kernel_size=1),\n",
        "    )\n",
        "\n",
        "def conv_bn(inp, oup, stride, use_batch_norm=True):\n",
        "    if use_batch_norm:\n",
        "        return nn.Sequential(\n",
        "            nn.Conv2d(inp, oup, 3, stride, 1, bias=False),\n",
        "            nn.BatchNorm2d(oup),\n",
        "            nn.ReLU6(inplace=True)\n",
        "        )\n",
        "    else:\n",
        "        return nn.Sequential(\n",
        "            nn.Conv2d(inp, oup, 3, stride, 1, bias=False),\n",
        "            nn.ReLU6(inplace=True)\n",
        "        )\n",
        "\n",
        "\n",
        "def conv_1x1_bn(inp, oup, use_batch_norm=True):\n",
        "    if use_batch_norm:\n",
        "        return nn.Sequential(\n",
        "            nn.Conv2d(inp, oup, 1, 1, 0, bias=False),\n",
        "            nn.BatchNorm2d(oup),\n",
        "            nn.ReLU6(inplace=True)\n",
        "        )\n",
        "    else:\n",
        "        return nn.Sequential(\n",
        "            nn.Conv2d(inp, oup, 1, 1, 0, bias=False),\n",
        "            nn.ReLU6(inplace=True)\n",
        "        )\n",
        "\n",
        "\n",
        "class InvertedResidual(nn.Module):\n",
        "    def __init__(self, inp, oup, stride, expand_ratio, use_batch_norm=True):\n",
        "        super(InvertedResidual, self).__init__()\n",
        "\n",
        "        self.stride = stride\n",
        "        assert stride in [1, 2]\n",
        "\n",
        "        hidden_dim = round(inp * expand_ratio)\n",
        "        self.use_res_connect = self.stride == 1 and inp == oup\n",
        "\n",
        "        if expand_ratio == 1:\n",
        "            if use_batch_norm:\n",
        "                self.conv = nn.Sequential(\n",
        "                    # dw\n",
        "                    nn.Conv2d(hidden_dim, hidden_dim, 3, stride, 1, groups=hidden_dim, bias=False),\n",
        "                    nn.BatchNorm2d(hidden_dim),\n",
        "                    nn.ReLU6(inplace=True),\n",
        "                    # pw-linear\n",
        "                    nn.Conv2d(hidden_dim, oup, 1, 1, 0, bias=False),\n",
        "                    nn.BatchNorm2d(oup),\n",
        "                )\n",
        "            else:\n",
        "                self.conv = nn.Sequential(\n",
        "                    # dw\n",
        "                    nn.Conv2d(hidden_dim, hidden_dim, 3, stride, 1, groups=hidden_dim, bias=False),\n",
        "                    nn.ReLU6(inplace=True),\n",
        "                    # pw-linear\n",
        "                    nn.Conv2d(hidden_dim, oup, 1, 1, 0, bias=False),\n",
        "                )\n",
        "        else:\n",
        "            if use_batch_norm:\n",
        "                self.conv = nn.Sequential(\n",
        "                    # pw\n",
        "                    nn.Conv2d(inp, hidden_dim, 1, 1, 0, bias=False),\n",
        "                    nn.BatchNorm2d(hidden_dim),\n",
        "                    nn.ReLU6(inplace=True),\n",
        "                    # dw\n",
        "                    nn.Conv2d(hidden_dim, hidden_dim, 3, stride, 1, groups=hidden_dim, bias=False),\n",
        "                    nn.BatchNorm2d(hidden_dim),\n",
        "                    nn.ReLU6(inplace=True),\n",
        "                    # pw-linear\n",
        "                    nn.Conv2d(hidden_dim, oup, 1, 1, 0, bias=False),\n",
        "                    nn.BatchNorm2d(oup),\n",
        "                )\n",
        "            else:\n",
        "                self.conv = nn.Sequential(\n",
        "                    # pw\n",
        "                    nn.Conv2d(inp, hidden_dim, 1, 1, 0, bias=False),\n",
        "                    nn.ReLU6(inplace=True),\n",
        "                    # dw\n",
        "                    nn.Conv2d(hidden_dim, hidden_dim, 3, stride, 1, groups=hidden_dim, bias=False),\n",
        "                    nn.ReLU6(inplace=True),\n",
        "                    # pw-linear\n",
        "                    nn.Conv2d(hidden_dim, oup, 1, 1, 0, bias=False),\n",
        "                )\n",
        "\n",
        "    def forward(self, x):\n",
        "        if self.use_res_connect:\n",
        "            return x + self.conv(x)\n",
        "        else:\n",
        "            return self.conv(x)\n"
      ],
      "execution_count": 0,
      "outputs": []
    },
    {
      "cell_type": "code",
      "metadata": {
        "id": "l-HAsdfCLWQs",
        "colab_type": "code",
        "colab": {}
      },
      "source": [
        "class MyNet(nn.Module):\n",
        "    def __init__(self):\n",
        "        super(MyNet, self).__init__()\n",
        "        self.conv = nn.Sequential(InvertedResidual(1, 4, 1, 1),\n",
        "                                  InvertedResidual(4, 16, 2, 2),\n",
        "                                  InvertedResidual(16, 32, 2, 2),\n",
        "                                  InvertedResidual(32, 32, 1, 2),\n",
        "                                  InvertedResidual(32, 48, 2, 2),\n",
        "                                  InvertedResidual(48, 48, 1, 2),\n",
        "                                  InvertedResidual(48, 72, 2, 2),\n",
        "                                  InvertedResidual(72, 72, 1, 2),\n",
        "                                  InvertedResidual(72, 64, 2, 2),\n",
        "                                  InvertedResidual(64, 64, 1, 2),\n",
        "                                  InvertedResidual(64, 64, 2, 2),\n",
        "                                  conv_bn(64, 1, 2, use_batch_norm=False),\n",
        "                                  nn.Sigmoid())\n",
        "    \n",
        "    def forward(self, x):\n",
        "        return self.conv(x)\n",
        "    \n",
        "    def predict(self, x):\n",
        "        pred = self.forward(x)\n",
        "        ans = []\n",
        "        for t in pred:\n",
        "            if t > torch.tensor(0.5).float():\n",
        "                ans.append(1)\n",
        "            else:\n",
        "                ans.append(0)\n",
        "        return torch.tensor(ans).float().to(torch.device(\"cuda:0\" if torch.cuda.is_available() else \"cpu\"))"
      ],
      "execution_count": 0,
      "outputs": []
    },
    {
      "cell_type": "code",
      "metadata": {
        "id": "eZloG82XCR1w",
        "colab_type": "code",
        "colab": {}
      },
      "source": [
        "device = torch.device(\"cuda:0\" if torch.cuda.is_available() else \"cpu\")\n",
        "criterion = nn.BCELoss(reduction='mean')\n",
        "net = MyNet()\n",
        "optimizer = optim.Adam(net.parameters())"
      ],
      "execution_count": 0,
      "outputs": []
    },
    {
      "cell_type": "code",
      "metadata": {
        "colab_type": "code",
        "outputId": "e35343d8-3118-4b3f-ea01-c7cc8e1936c2",
        "id": "EFvbfN5VXguE",
        "colab": {
          "base_uri": "https://localhost:8080/",
          "height": 591
        }
      },
      "source": [
        "net.to(device)\n",
        "net.train()\n",
        "for epoch in range(10):\n",
        "    running_loss = 0.0\n",
        "    epoch_loss = 0.0\n",
        "    for i, data in enumerate(train_loader, 0):\n",
        "        inputs = data['image'].to(device)\n",
        "        labels = data['label'].to(device)\n",
        "\n",
        "        optimizer.zero_grad()\n",
        "\n",
        "        outputs = net(inputs)\n",
        "        loss = criterion(outputs, labels)\n",
        "        loss.backward()\n",
        "        optimizer.step()\n",
        "\n",
        "        running_loss += loss.item()\n",
        "        epoch_loss += loss.item()\n",
        "        if i % 40 == 39:\n",
        "            print(f'[{epoch + 1}, {i + 1}] loss: {running_loss/40}')\n",
        "            running_loss = 0.0\n",
        "    print(epoch_loss/len(train_loader))\n",
        "\n",
        "print('Finished Training')"
      ],
      "execution_count": 8,
      "outputs": [
        {
          "output_type": "stream",
          "text": [
            "/usr/local/lib/python3.6/dist-packages/torch/nn/modules/loss.py:498: UserWarning: Using a target size (torch.Size([20])) that is different to the input size (torch.Size([20, 1, 1, 1])) is deprecated. Please ensure they have the same size.\n",
            "  return F.binary_cross_entropy(input, target, weight=self.weight, reduction=self.reduction)\n"
          ],
          "name": "stderr"
        },
        {
          "output_type": "stream",
          "text": [
            "[1, 40] loss: 0.5768156841397285\n",
            "[1, 80] loss: 0.5853825502097607\n",
            "0.5798657042905688\n",
            "[2, 40] loss: 0.5679561994969845\n",
            "[2, 80] loss: 0.5271564804017543\n",
            "0.5487073042119542\n",
            "[3, 40] loss: 0.5225200951099396\n",
            "[3, 80] loss: 0.5177174039185047\n",
            "0.5145597690716386\n",
            "[4, 40] loss: 0.5102825343608857\n",
            "[4, 80] loss: 0.5020036026835442\n",
            "0.5118848324442903\n",
            "[5, 40] loss: 0.4949504464864731\n",
            "[5, 80] loss: 0.5030071698129177\n",
            "0.49874237397064763\n",
            "[6, 40] loss: 0.47536383792757986\n",
            "[6, 80] loss: 0.5121039278805256\n",
            "0.5032587358728051\n",
            "[7, 40] loss: 0.49782843217253686\n",
            "[7, 80] loss: 0.489799927175045\n",
            "0.4938807946940263\n",
            "[8, 40] loss: 0.4849592611193657\n",
            "[8, 80] loss: 0.4776630409061909\n",
            "0.4825567655886213\n",
            "[9, 40] loss: 0.46373102962970736\n",
            "[9, 80] loss: 0.4978439949452877\n",
            "0.4808033263931672\n",
            "[10, 40] loss: 0.4721595004200935\n",
            "[10, 80] loss: 0.47924825735390186\n",
            "0.48588932569449145\n",
            "Finished Training\n"
          ],
          "name": "stdout"
        }
      ]
    },
    {
      "cell_type": "code",
      "metadata": {
        "id": "1LYSsY8bHwYm",
        "colab_type": "code",
        "colab": {}
      },
      "source": [
        "torch.save(net.state_dict(), './net.pth')"
      ],
      "execution_count": 0,
      "outputs": []
    },
    {
      "cell_type": "code",
      "metadata": {
        "id": "GtgAPV-_SaXR",
        "colab_type": "code",
        "colab": {
          "base_uri": "https://localhost:8080/",
          "height": 34
        },
        "outputId": "96384b65-bf1a-48f0-a2be-c52577e51c2d"
      },
      "source": [
        "net.load_state_dict(torch.load('./net.pth'))"
      ],
      "execution_count": 12,
      "outputs": [
        {
          "output_type": "execute_result",
          "data": {
            "text/plain": [
              "<All keys matched successfully>"
            ]
          },
          "metadata": {
            "tags": []
          },
          "execution_count": 12
        }
      ]
    },
    {
      "cell_type": "code",
      "metadata": {
        "id": "QZyn59qoTUFb",
        "colab_type": "code",
        "colab": {
          "base_uri": "https://localhost:8080/",
          "height": 34
        },
        "outputId": "3fb6028a-ca91-4e71-c485-23ca5ba4ca5d"
      },
      "source": [
        "test = TestDataset('dataset_test_ids.csv')\n",
        "pos = 0\n",
        "prediction = open('prediction.csv', 'w')\n",
        "prediction.write('Id,Predicted\\n')\n",
        "for i, data in enumerate(test_loader, 0):\n",
        "    inputs = data['image'].to(device)\n",
        "    labels = data['label'].to(device)\n",
        "    url = data['url']\n",
        "    outputs = net.predict(inputs)\n",
        "    prediction.write(f'{url},{np.int(outputs.item())}\\n')\n",
        "    if abs(outputs - labels) < 0.5:\n",
        "        pos += 1\n",
        "print(f'Accuracy: {pos/len(test)}')\n"
      ],
      "execution_count": 25,
      "outputs": [
        {
          "output_type": "stream",
          "text": [
            "Accuracy: 0.8214285714285714\n"
          ],
          "name": "stdout"
        }
      ]
    },
    {
      "cell_type": "code",
      "metadata": {
        "id": "MQPVM-AATacd",
        "colab_type": "code",
        "colab": {
          "base_uri": "https://localhost:8080/",
          "height": 34
        },
        "outputId": "e4f71d46-55b4-43ca-f76c-9562c2052bb5"
      },
      "source": [
        "import time\n",
        "test = TestDataset('dataset_test_ids.csv')\n",
        "pos = 0\n",
        "for i, data in enumerate(test_loader, 0):\n",
        "    input = data['image'].to(device)\n",
        "    break\n",
        "start = time.time()\n",
        "for i in range(10000):\n",
        "    net.predict(input)\n",
        "end = time.time()\n",
        "print(f'FPS: {10000/(end-start)}')\n",
        "    "
      ],
      "execution_count": 14,
      "outputs": [
        {
          "output_type": "stream",
          "text": [
            "FPS: 130.33482014779935\n"
          ],
          "name": "stdout"
        }
      ]
    },
    {
      "cell_type": "code",
      "metadata": {
        "id": "TsqM9aAxTdqi",
        "colab_type": "code",
        "colab": {
          "base_uri": "https://localhost:8080/",
          "height": 34
        },
        "outputId": "81f17b1c-763f-4161-ea11-e67c29e322b5"
      },
      "source": [
        "print(net.predict(input).item())"
      ],
      "execution_count": 21,
      "outputs": [
        {
          "output_type": "stream",
          "text": [
            "0.0\n"
          ],
          "name": "stdout"
        }
      ]
    },
    {
      "cell_type": "code",
      "metadata": {
        "id": "jYNmwbktX2Rs",
        "colab_type": "code",
        "colab": {}
      },
      "source": [
        ""
      ],
      "execution_count": 0,
      "outputs": []
    }
  ]
}